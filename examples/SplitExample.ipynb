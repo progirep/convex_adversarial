{
 "cells": [
  {
   "cell_type": "markdown",
   "metadata": {},
   "source": [
    "# An example with a split network"
   ]
  },
  {
   "cell_type": "code",
   "execution_count": 1,
   "metadata": {},
   "outputs": [
    {
     "name": "stderr",
     "output_type": "stream",
     "text": [
      "/usr/lib/python3.6/importlib/_bootstrap.py:219: RuntimeWarning: numpy.dtype size changed, may indicate binary incompatibility. Expected 96, got 88\n",
      "  return f(*args, **kwds)\n"
     ]
    }
   ],
   "source": [
    "import torch\n",
    "import torch.nn as nn\n",
    "import torch.optim as optim\n",
    "from torch.autograd import Variable\n",
    "from torchvision import datasets, transforms\n",
    "import sys\n",
    "\n",
    "import matplotlib.pyplot as plt\n",
    "import seaborn\n",
    "import matplotlib.patches as patches\n",
    "from scipy.spatial import HalfspaceIntersection\n",
    "\n",
    "%matplotlib inline\n",
    "seaborn.set(font_scale=2)\n",
    "seaborn.set_style(\"white\")\n",
    "\n",
    "import numpy as np\n",
    "\n",
    "sys.path.append(\"../\")\n"
   ]
  },
  {
   "cell_type": "markdown",
   "metadata": {},
   "source": [
    "## 1. Define a network."
   ]
  },
  {
   "cell_type": "code",
   "execution_count": 3,
   "metadata": {},
   "outputs": [],
   "source": [
    "import convex_adversarial\n",
    "\n",
    "eye = torch.eye(2)\n",
    "split1 = nn.Linear(2,1, bias=False)\n",
    "split1.weight = nn.Parameter(eye[:1])\n",
    "split1.weight.requires_grad = False\n",
    "split2 = nn.Linear(2,1, bias=False)\n",
    "split2.weight = nn.Parameter(eye[1:])\n",
    "split2.weight.requires_grad = False\n",
    "\n",
    "netSplit = convex_adversarial.DenseSequential(\n",
    "    # add a no-op mapping for Dense support, since Dense operators don't currently work directly on input layers\n",
    "    convex_adversarial.Dense(nn.Sequential()),\n",
    "    # split the input into two different layers\n",
    "    convex_adversarial.Dense(split1), \n",
    "    convex_adversarial.Dense(split2, None),\n",
    "    # operate on split2\n",
    "    nn.Linear(1,20), \n",
    "    nn.ReLU(), \n",
    "    nn.Linear(20,5), \n",
    "    nn.ReLU(), \n",
    "    # operate on split1, skipping the previous 5 layers\n",
    "    convex_adversarial.Dense(nn.Linear(1,3), None, None, None, None, None),\n",
    "    nn.ReLU(), \n",
    "    nn.Linear(3,5), \n",
    "    nn.ReLU(), \n",
    "    # combine the two split networks \n",
    "    convex_adversarial.Dense(nn.Linear(5,10), None, None, None, nn.Linear(5,10)), \n",
    "    nn.ReLU(), \n",
    "    nn.Linear(10,10), \n",
    "    nn.ReLU(), \n",
    "    nn.Linear(10,20)\n",
    ")"
   ]
  },
  {
   "cell_type": "markdown",
   "metadata": {},
   "source": [
    "## 2. Define an example"
   ]
  },
  {
   "cell_type": "code",
   "execution_count": 4,
   "metadata": {},
   "outputs": [],
   "source": [
    "# random points at least 2r apart\n",
    "m = 20\n",
    "np.random.seed(3)\n",
    "x = [np.random.uniform(size=(2))]\n",
    "y = []\n",
    "r = 0.1\n",
    "while(len(x) < m):\n",
    "    p = np.random.uniform(size=(2))\n",
    "    if min(np.abs(p-a).sum() for a in x) > 2*r:\n",
    "        x.append(p)\n",
    "        if np.random.chisquare(2)<1.0:\n",
    "            y.append(1)\n",
    "        else:\n",
    "            y.append(0)\n",
    "\n",
    "# Remove the first element from x, as it does not have a classification\n",
    "x = x[1:]\n",
    " \n",
    "# r = 0.145\n",
    "epsilon = r/2\n",
    "\n",
    "X = torch.Tensor(np.array(x))\n",
    "Y = torch.Tensor(np.array(y)).long()\n"
   ]
  },
  {
   "cell_type": "markdown",
   "metadata": {},
   "source": [
    "## 3. Learn the network"
   ]
  },
  {
   "cell_type": "code",
   "execution_count": 11,
   "metadata": {},
   "outputs": [
    {
     "name": "stdout",
     "output_type": "stream",
     "text": [
      "0.4335734248161316 0.31578946113586426\n",
      "0.2670975625514984 0.15789473056793213\n",
      "0.2665858268737793 0.15789473056793213\n",
      "0.2665633261203766 0.15789473056793213\n",
      "0.26656046509742737 0.15789473056793213\n",
      "0.26656046509742737 0.15789473056793213\n",
      "0.2665596902370453 0.15789473056793213\n",
      "0.26655998826026917 0.15789473056793213\n",
      "0.26656070351600647 0.15789473056793213\n",
      "0.266592413187027 0.15789473056793213\n",
      "0.26655957102775574\n"
     ]
    }
   ],
   "source": [
    "torch.manual_seed(123)\n",
    "iterations = 30000\n",
    "opt = optim.Adam(filter(lambda p: p.requires_grad,netSplit.parameters()), lr=1e-3)\n",
    "# opt = optim.SGD(net.parameters(), lr=0.1, momentum=0.9)\n",
    "for i in range(iterations):\n",
    "    out = netSplit(Variable(X))\n",
    "    l = nn.CrossEntropyLoss()(out, Variable(Y))\n",
    "    err = (out.max(1)[1].data != Y).float().mean()\n",
    "    if i % (iterations // 10) == 0:\n",
    "        print(l.data.item(), err.item())\n",
    "    opt.zero_grad()\n",
    "    (l).backward()\n",
    "    opt.step()\n",
    "print(l.data.item())"
   ]
  },
  {
   "cell_type": "markdown",
   "metadata": {},
   "source": [
    "## 4. Visualize the network"
   ]
  },
  {
   "cell_type": "code",
   "execution_count": 7,
   "metadata": {},
   "outputs": [
    {
     "data": {
      "image/png": "[encoded data removed]",
      "text/plain": [
       "<Figure size 576x576 with 1 Axes>"
      ]
     },
     "metadata": {},
     "output_type": "display_data"
    }
   ],
   "source": [
    "XX, YY = np.meshgrid(np.linspace(0, 1, 100), np.linspace(0, 1, 100))\n",
    "X0 = Variable(torch.Tensor(np.stack([np.ravel(XX), np.ravel(YY)]).T))\n",
    "y0 = netSplit(X0)\n",
    "\n",
    "ZZ = (np.argmax(np.stack([y0[:,a].detach().numpy() for a in range(0,y0.size()[1])]),axis=0))\n",
    "ZZ.resize(100,100)\n",
    "\n",
    "fig, ax = plt.subplots(figsize=(8,8))\n",
    "ax.contourf(XX,YY,-ZZ, cmap=\"Accent\")\n",
    "ax.scatter(X.numpy()[:,0], X.numpy()[:,1], c=Y.numpy(), cmap=\"Accent\", s=70)\n",
    "ax.axis(\"equal\")\n",
    "ax.axis([0,1,0,1])\n",
    "\n",
    "for a in x:\n",
    "    ax.add_patch(patches.Rectangle((a[0]-r/2, a[1]-r/2), r, r, fill=False))\n"
   ]
  },
  {
   "cell_type": "markdown",
   "metadata": {},
   "source": [
    "## 5. Robust learning"
   ]
  },
  {
   "cell_type": "code",
   "execution_count": 9,
   "metadata": {
    "scrolled": false
   },
   "outputs": [
    {
     "name": "stdout",
     "output_type": "stream",
     "text": [
      "0 0.6902041435241699 0.42105263157894735\n",
      "100 0.680886447429657 0.42105263157894735\n",
      "200 0.6804508566856384 0.42105263157894735\n",
      "300 0.6794897317886353 0.42105263157894735\n",
      "400 0.672946035861969 0.42105263157894735\n",
      "500 0.6381545662879944 0.3157894736842105\n",
      "600 0.5868343710899353 0.2631578947368421\n",
      "700 0.5617818832397461 0.3157894736842105\n",
      "800 0.5601843595504761 0.3157894736842105\n",
      "900 0.5600517392158508 0.3157894736842105\n",
      "1000 0.5600310564041138 0.3157894736842105\n",
      "1100 0.5600223541259766 0.3157894736842105\n",
      "1200 0.5600178837776184 0.3157894736842105\n",
      "1300 0.5600096583366394 0.3157894736842105\n",
      "1400 0.5600099563598633 0.3157894736842105\n",
      "1500 0.5600071549415588 0.3157894736842105\n",
      "1600 0.5600104928016663 0.3157894736842105\n",
      "1700 0.5600039958953857 0.3157894736842105\n",
      "1800 0.5600013136863708 0.3157894736842105\n",
      "1900 0.5600094795227051 0.3157894736842105\n",
      "0.4335787296295166 0.5600011944770813 0.3157894736842105\n"
     ]
    }
   ],
   "source": [
    "from convex_adversarial import robust_loss\n",
    "\n",
    "data = []\n",
    "torch.manual_seed(123)\n",
    "opt = optim.Adam(filter(lambda p: p.requires_grad,netSplit.parameters()), lr=1e-3)\n",
    "for i in range(2000):\n",
    "    robust_ce, robust_err = robust_loss(netSplit, epsilon, Variable(X), Variable(Y))\n",
    "    out = netSplit(Variable(X))\n",
    "    l2 = nn.CrossEntropyLoss()(out, Variable(Y))\n",
    "    err = (out.max(1)[1].data != Y).float().mean()\n",
    "    data.append([l2.data.item(), robust_ce.data.item(), err, robust_err])\n",
    "    if i % 100 == 0:\n",
    "        print(i,robust_ce.data.item(), robust_err)\n",
    "    opt.zero_grad()\n",
    "    (robust_ce).backward()\n",
    "    opt.step()\n",
    "print(l2.data.item(), robust_ce.data.item(), robust_err)"
   ]
  },
  {
   "cell_type": "markdown",
   "metadata": {},
   "source": [
    "## 6. Visualize Network -- Robust Version"
   ]
  },
  {
   "cell_type": "code",
   "execution_count": 10,
   "metadata": {},
   "outputs": [
    {
     "data": {
      "image/png": "[encoded data removed]",
      "text/plain": [
       "<Figure size 576x576 with 1 Axes>"
      ]
     },
     "metadata": {},
     "output_type": "display_data"
    }
   ],
   "source": [
    "XX, YY = np.meshgrid(np.linspace(0, 1, 100), np.linspace(0, 1, 100))\n",
    "X0 = Variable(torch.Tensor(np.stack([np.ravel(XX), np.ravel(YY)]).T))\n",
    "y0 = netSplit(X0)\n",
    "\n",
    "ZZ = (np.argmax(np.stack([y0[:,a].detach().numpy() for a in range(0,y0.size()[1])]),axis=0))\n",
    "ZZ.resize(100,100)\n",
    "\n",
    "fig, ax = plt.subplots(figsize=(8,8))\n",
    "ax.contourf(XX,YY,-ZZ, cmap=\"Accent\")\n",
    "ax.scatter(X.numpy()[:,0], X.numpy()[:,1], c=Y.numpy(), cmap=\"Accent\", s=70)\n",
    "ax.axis(\"equal\")\n",
    "ax.axis([0,1,0,1])\n",
    "\n",
    "for a in x:\n",
    "    ax.add_patch(patches.Rectangle((a[0]-r/2, a[1]-r/2), r, r, fill=False))\n"
   ]
  },
  {
   "cell_type": "code",
   "execution_count": null,
   "metadata": {},
   "outputs": [],
   "source": []
  }
 ],
 "metadata": {
  "kernelspec": {
   "display_name": "Python 3",
   "language": "python",
   "name": "python3"
  },
  "language_info": {
   "codemirror_mode": {
    "name": "ipython",
    "version": 3
   },
   "file_extension": ".py",
   "mimetype": "text/x-python",
   "name": "python",
   "nbconvert_exporter": "python",
   "pygments_lexer": "ipython3",
   "version": "3.6.5"
  }
 },
 "nbformat": 4,
 "nbformat_minor": 2
}

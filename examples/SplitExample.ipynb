{
 "cells": [
  {
   "cell_type": "markdown",
   "metadata": {},
   "source": [
    "# An example with a split network"
   ]
  },
  {
   "cell_type": "code",
   "execution_count": 1,
   "metadata": {},
   "outputs": [
    {
     "name": "stderr",
     "output_type": "stream",
     "text": [
      "/usr/lib/python3.6/importlib/_bootstrap.py:219: RuntimeWarning: numpy.dtype size changed, may indicate binary incompatibility. Expected 96, got 88\n",
      "  return f(*args, **kwds)\n"
     ]
    }
   ],
   "source": [
    "import torch\n",
    "import torch.nn as nn\n",
    "import torch.optim as optim\n",
    "from torch.autograd import Variable\n",
    "from torchvision import datasets, transforms\n",
    "import sys\n",
    "\n",
    "import matplotlib.pyplot as plt\n",
    "import seaborn\n",
    "import matplotlib.patches as patches\n",
    "from scipy.spatial import HalfspaceIntersection\n",
    "\n",
    "%matplotlib inline\n",
    "seaborn.set(font_scale=2)\n",
    "seaborn.set_style(\"white\")\n",
    "\n",
    "import numpy as np\n",
    "\n",
    "sys.path.append(\"../\")\n"
   ]
  },
  {
   "cell_type": "markdown",
   "metadata": {},
   "source": [
    "## 1. Define a network."
   ]
  },
  {
   "cell_type": "code",
   "execution_count": 2,
   "metadata": {},
   "outputs": [],
   "source": [
    "from convex_adversarial import SplitNetwork\n",
    "\n",
    "torch.manual_seed(1234)\n",
    "netSplit = nn.Sequential(\n",
    "    SplitNetwork(\n",
    "        nn.Sequential(\n",
    "            nn.Linear(1,20),\n",
    "            nn.ReLU(),\n",
    "            nn.Linear(20,5),\n",
    "            nn.ReLU(),\n",
    "        ),\n",
    "        nn.Sequential(\n",
    "            nn.Linear(1,3),\n",
    "            nn.ReLU(),\n",
    "            nn.Linear(3,5),\n",
    "            nn.ReLU(),\n",
    "        ),\n",
    "        [1,1]\n",
    "    ),\n",
    "    nn.Linear(10,10),\n",
    "    nn.ReLU(),\n",
    "    nn.Linear(10,10),\n",
    "    nn.ReLU(),\n",
    "    nn.Linear(10,2)\n",
    ")"
   ]
  },
  {
   "cell_type": "markdown",
   "metadata": {},
   "source": [
    "## 2. Define an example"
   ]
  },
  {
   "cell_type": "code",
   "execution_count": 3,
   "metadata": {},
   "outputs": [],
   "source": [
    "# random points at least 2r apart\n",
    "m = 20\n",
    "np.random.seed(3)\n",
    "x = [np.random.uniform(size=(2))]\n",
    "y = []\n",
    "r = 0.1\n",
    "while(len(x) < m):\n",
    "    p = np.random.uniform(size=(2))\n",
    "    if min(np.abs(p-a).sum() for a in x) > 2*r:\n",
    "        x.append(p)\n",
    "        if np.random.chisquare(2)<1.0:\n",
    "            y.append(1)\n",
    "        else:\n",
    "            y.append(0)\n",
    "\n",
    "# Remove the first element from x, as it does not have a classification\n",
    "x = x[1:]\n",
    " \n",
    "# r = 0.145\n",
    "epsilon = r/2\n",
    "\n",
    "X = torch.Tensor(np.array(x))\n",
    "Y = torch.Tensor(np.array(y)).long()\n"
   ]
  },
  {
   "cell_type": "markdown",
   "metadata": {},
   "source": [
    "## 3. Learn the network"
   ]
  },
  {
   "cell_type": "code",
   "execution_count": 4,
   "metadata": {},
   "outputs": [
    {
     "name": "stdout",
     "output_type": "stream",
     "text": [
      "0.6810893416404724 0.42105263471603394\n",
      "0.3591146767139435 0.10526315867900848\n",
      "0.3125952184200287 0.15789473056793213\n",
      "0.23359180986881256 0.15789473056793213\n",
      "0.15374283492565155 0.05263157933950424\n",
      "0.0684451088309288 0.0\n",
      "0.03423304110765457 0.0\n",
      "0.005388522520661354 0.0\n",
      "0.0018379568355157971 0.0\n",
      "0.0009505149791948497 0.0\n",
      "0.0005810883594676852\n"
     ]
    }
   ],
   "source": [
    "torch.manual_seed(123)\n",
    "iterations = 3000\n",
    "opt = optim.Adam(netSplit.parameters(), lr=1e-3)\n",
    "# opt = optim.SGD(net.parameters(), lr=0.1, momentum=0.9)\n",
    "for i in range(iterations):\n",
    "    out = netSplit(Variable(X))\n",
    "    l = nn.CrossEntropyLoss()(out, Variable(Y))\n",
    "    err = (out.max(1)[1].data != Y).float().mean()\n",
    "    if i % (iterations // 10) == 0:\n",
    "        print(l.data.item(), err.item())\n",
    "    opt.zero_grad()\n",
    "    (l).backward()\n",
    "    opt.step()\n",
    "print(l.data.item())"
   ]
  },
  {
   "cell_type": "markdown",
   "metadata": {},
   "source": [
    "## 4. Visualize the network"
   ]
  },
  {
   "cell_type": "code",
   "execution_count": 5,
   "metadata": {},
   "outputs": [
    {
     "data": {
      "image/png": "[encoded data removed]",
      "text/plain": [
       "<Figure size 576x576 with 1 Axes>"
      ]
     },
     "metadata": {},
     "output_type": "display_data"
    }
   ],
   "source": [
    "XX, YY = np.meshgrid(np.linspace(0, 1, 100), np.linspace(0, 1, 100))\n",
    "X0 = Variable(torch.Tensor(np.stack([np.ravel(XX), np.ravel(YY)]).T))\n",
    "y0 = netSplit(X0)\n",
    "\n",
    "ZZ = (np.argmax(np.stack([y0[:,a].detach().numpy() for a in range(0,y0.size()[1])]),axis=0))\n",
    "ZZ.resize(100,100)\n",
    "\n",
    "fig, ax = plt.subplots(figsize=(8,8))\n",
    "ax.contourf(XX,YY,-ZZ, cmap=\"Accent\")\n",
    "ax.scatter(X.numpy()[:,0], X.numpy()[:,1], c=Y.numpy(), cmap=\"Accent\", s=70)\n",
    "ax.axis(\"equal\")\n",
    "ax.axis([0,1,0,1])\n",
    "\n",
    "for a in x:\n",
    "    ax.add_patch(patches.Rectangle((a[0]-r/2, a[1]-r/2), r, r, fill=False))\n"
   ]
  },
  {
   "cell_type": "code",
   "execution_count": null,
   "metadata": {},
   "outputs": [],
   "source": []
  }
 ],
 "metadata": {
  "kernelspec": {
   "display_name": "Python 3",
   "language": "python",
   "name": "python3"
  },
  "language_info": {
   "codemirror_mode": {
    "name": "ipython",
    "version": 3
   },
   "file_extension": ".py",
   "mimetype": "text/x-python",
   "name": "python",
   "nbconvert_exporter": "python",
   "pygments_lexer": "ipython3",
   "version": "3.6.5"
  }
 },
 "nbformat": 4,
 "nbformat_minor": 2
}
